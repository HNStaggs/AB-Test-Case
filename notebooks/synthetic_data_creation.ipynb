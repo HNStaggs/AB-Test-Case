{
 "cells": [
  {
   "cell_type": "markdown",
   "id": "2708ff27-a50d-4c31-91ec-9dd5b40b6457",
   "metadata": {},
   "source": [
    "# Load Libraries"
   ]
  },
  {
   "cell_type": "code",
   "execution_count": 34,
   "id": "93b29263-a0a8-4e99-8a75-78cf575e5c11",
   "metadata": {},
   "outputs": [],
   "source": [
    "# Load libraries\n",
    "import numpy as np\n",
    "import pandas as pd\n",
    "from sklearn.datasets import make_classification, make_regression\n",
    "import os"
   ]
  },
  {
   "cell_type": "markdown",
   "id": "6e7d117e-40b4-4224-90d9-9c1763c96ba4",
   "metadata": {},
   "source": [
    "# Create Dataset"
   ]
  },
  {
   "cell_type": "code",
   "execution_count": 192,
   "id": "2a5169c0-2bc5-4cc9-abd6-b3e4001c16ab",
   "metadata": {},
   "outputs": [],
   "source": [
    "# Create dataframe\n",
    "pizza_data = pd.DataFrame()"
   ]
  },
  {
   "cell_type": "code",
   "execution_count": 193,
   "id": "59380893-e1b2-4e45-9fcc-b330f07c0156",
   "metadata": {},
   "outputs": [],
   "source": [
    "# ID number\n",
    "pizza_data['cust_id'] = [i for i in range(1,4001)]"
   ]
  },
  {
   "cell_type": "code",
   "execution_count": 194,
   "id": "994b50b0-2203-41f8-93cc-cea49c8f18d2",
   "metadata": {},
   "outputs": [],
   "source": [
    "# Random assignment of site version with 50/50 odds\n",
    "np.random.seed(2)\n",
    "pizza_data['condition'] = np.random.choice([0,1], size=len(pizza_data), p=[0.5,0.5])"
   ]
  },
  {
   "cell_type": "code",
   "execution_count": 195,
   "id": "48fbddbc-89bf-4752-9cc3-03f4c13a3e4b",
   "metadata": {},
   "outputs": [],
   "source": [
    "# Site visit converted to order\n",
    "np.random.seed(2)\n",
    "pizza_data['order_conv'] = np.where(\n",
    "    pizza_data['condition'] == 1,\n",
    "    np.random.choice([0,1], size=len(pizza_data), p=[0.3,0.7]),\n",
    "    np.random.choice([0,1], size=len(pizza_data), p=[0.7,0.3]))"
   ]
  },
  {
   "cell_type": "code",
   "execution_count": 196,
   "id": "bb6cbb44-320a-461b-9599-8b8cb0c54bf9",
   "metadata": {},
   "outputs": [],
   "source": [
    "# Number of items ordered if purchase was made, otherwise 0\n",
    "np.random.seed(2)\n",
    "pizza_data['num_item'] = np.where(\n",
    "    pizza_data['order_conv'] == 1,\n",
    "    np.random.randint(1, 14, size=len(pizza_data)),  # Fixed randint\n",
    "    0\n",
    ")"
   ]
  },
  {
   "cell_type": "code",
   "execution_count": 197,
   "id": "48c707c4-257f-4834-9824-5d667d6f4abf",
   "metadata": {},
   "outputs": [],
   "source": [
    "# Order total with right skew if made a purchase\n",
    "np.random.seed(2)\n",
    "pizza_data['order_total'] = np.where(\n",
    "    pizza_data['order_conv'] == 1,\n",
    "    np.round(np.random.exponential(15, size=len(pizza_data)),decimals=2),\n",
    "    0.00)\n",
    "    "
   ]
  },
  {
   "cell_type": "code",
   "execution_count": 198,
   "id": "54007e6b-0a8f-4b3d-9cfd-0f9513ce77a2",
   "metadata": {},
   "outputs": [],
   "source": [
    "# Time spend on site\n",
    "np.random.seed(2)\n",
    "pizza_data['session_duration'] = np.where(\n",
    "    pizza_data['order_conv'] == 1,\n",
    "    np.round(np.random.exponential(3, size=len(pizza_data)),decimals=2),\n",
    "    np.round(np.random.exponential(8, size=len(pizza_data)),decimals=2))\n"
   ]
  },
  {
   "cell_type": "markdown",
   "id": "1ef40a6e-3286-4dc8-9fd6-76d4ea82c7b9",
   "metadata": {},
   "source": [
    "# View Data"
   ]
  },
  {
   "cell_type": "code",
   "execution_count": 199,
   "id": "49537795-8a76-44e6-81bf-1135bea87e9a",
   "metadata": {},
   "outputs": [
    {
     "data": {
      "text/html": [
       "<div>\n",
       "<style scoped>\n",
       "    .dataframe tbody tr th:only-of-type {\n",
       "        vertical-align: middle;\n",
       "    }\n",
       "\n",
       "    .dataframe tbody tr th {\n",
       "        vertical-align: top;\n",
       "    }\n",
       "\n",
       "    .dataframe thead th {\n",
       "        text-align: right;\n",
       "    }\n",
       "</style>\n",
       "<table border=\"1\" class=\"dataframe\">\n",
       "  <thead>\n",
       "    <tr style=\"text-align: right;\">\n",
       "      <th></th>\n",
       "      <th>cust_id</th>\n",
       "      <th>condition</th>\n",
       "      <th>order_conv</th>\n",
       "      <th>num_item</th>\n",
       "      <th>order_total</th>\n",
       "      <th>session_duration</th>\n",
       "    </tr>\n",
       "  </thead>\n",
       "  <tbody>\n",
       "    <tr>\n",
       "      <th>0</th>\n",
       "      <td>1</td>\n",
       "      <td>0</td>\n",
       "      <td>1</td>\n",
       "      <td>9</td>\n",
       "      <td>8.59</td>\n",
       "      <td>1.72</td>\n",
       "    </tr>\n",
       "    <tr>\n",
       "      <th>1</th>\n",
       "      <td>2</td>\n",
       "      <td>0</td>\n",
       "      <td>0</td>\n",
       "      <td>0</td>\n",
       "      <td>0.00</td>\n",
       "      <td>9.44</td>\n",
       "    </tr>\n",
       "    <tr>\n",
       "      <th>2</th>\n",
       "      <td>3</td>\n",
       "      <td>1</td>\n",
       "      <td>1</td>\n",
       "      <td>7</td>\n",
       "      <td>11.97</td>\n",
       "      <td>2.39</td>\n",
       "    </tr>\n",
       "    <tr>\n",
       "      <th>3</th>\n",
       "      <td>4</td>\n",
       "      <td>0</td>\n",
       "      <td>0</td>\n",
       "      <td>0</td>\n",
       "      <td>0.00</td>\n",
       "      <td>1.29</td>\n",
       "    </tr>\n",
       "    <tr>\n",
       "      <th>4</th>\n",
       "      <td>5</td>\n",
       "      <td>0</td>\n",
       "      <td>0</td>\n",
       "      <td>0</td>\n",
       "      <td>0.00</td>\n",
       "      <td>5.23</td>\n",
       "    </tr>\n",
       "    <tr>\n",
       "      <th>5</th>\n",
       "      <td>6</td>\n",
       "      <td>0</td>\n",
       "      <td>0</td>\n",
       "      <td>0</td>\n",
       "      <td>0.00</td>\n",
       "      <td>5.43</td>\n",
       "    </tr>\n",
       "    <tr>\n",
       "      <th>6</th>\n",
       "      <td>7</td>\n",
       "      <td>0</td>\n",
       "      <td>0</td>\n",
       "      <td>0</td>\n",
       "      <td>0.00</td>\n",
       "      <td>5.12</td>\n",
       "    </tr>\n",
       "    <tr>\n",
       "      <th>7</th>\n",
       "      <td>8</td>\n",
       "      <td>1</td>\n",
       "      <td>1</td>\n",
       "      <td>8</td>\n",
       "      <td>14.49</td>\n",
       "      <td>2.90</td>\n",
       "    </tr>\n",
       "    <tr>\n",
       "      <th>8</th>\n",
       "      <td>9</td>\n",
       "      <td>0</td>\n",
       "      <td>1</td>\n",
       "      <td>3</td>\n",
       "      <td>5.34</td>\n",
       "      <td>1.07</td>\n",
       "    </tr>\n",
       "    <tr>\n",
       "      <th>9</th>\n",
       "      <td>10</td>\n",
       "      <td>0</td>\n",
       "      <td>1</td>\n",
       "      <td>2</td>\n",
       "      <td>4.66</td>\n",
       "      <td>0.93</td>\n",
       "    </tr>\n",
       "  </tbody>\n",
       "</table>\n",
       "</div>"
      ],
      "text/plain": [
       "   cust_id  condition  order_conv  num_item  order_total  session_duration\n",
       "0        1          0           1         9         8.59              1.72\n",
       "1        2          0           0         0         0.00              9.44\n",
       "2        3          1           1         7        11.97              2.39\n",
       "3        4          0           0         0         0.00              1.29\n",
       "4        5          0           0         0         0.00              5.23\n",
       "5        6          0           0         0         0.00              5.43\n",
       "6        7          0           0         0         0.00              5.12\n",
       "7        8          1           1         8        14.49              2.90\n",
       "8        9          0           1         3         5.34              1.07\n",
       "9       10          0           1         2         4.66              0.93"
      ]
     },
     "execution_count": 199,
     "metadata": {},
     "output_type": "execute_result"
    }
   ],
   "source": [
    "# View data\n",
    "pizza_data.head(10)"
   ]
  },
  {
   "cell_type": "markdown",
   "id": "44d7d993-cfee-4856-bd89-425b7ad0413f",
   "metadata": {},
   "source": [
    "# Save Data"
   ]
  },
  {
   "cell_type": "code",
   "execution_count": 200,
   "id": "932d5645-5476-4753-9784-e06143445e15",
   "metadata": {},
   "outputs": [],
   "source": [
    "# Create path to data directory\n",
    "data_path = os.path.join('..', 'data', 'raw')\n",
    "\n",
    "# Save data\n",
    "pizza_data.to_csv(os.path.join(data_path, 'pizza_data.csv'), index=False)"
   ]
  },
  {
   "cell_type": "code",
   "execution_count": null,
   "id": "c70c5b3e-d680-48de-88b0-636f892940c6",
   "metadata": {},
   "outputs": [],
   "source": []
  },
  {
   "cell_type": "code",
   "execution_count": null,
   "id": "e3271bd1-dd21-4c99-bad5-4ce2c9becd89",
   "metadata": {},
   "outputs": [],
   "source": []
  },
  {
   "cell_type": "code",
   "execution_count": null,
   "id": "1c65682c-e870-4965-b07b-9ddde09ca89e",
   "metadata": {},
   "outputs": [],
   "source": []
  }
 ],
 "metadata": {
  "kernelspec": {
   "display_name": "abtestcase",
   "language": "python",
   "name": "abtestcase"
  },
  "language_info": {
   "codemirror_mode": {
    "name": "ipython",
    "version": 3
   },
   "file_extension": ".py",
   "mimetype": "text/x-python",
   "name": "python",
   "nbconvert_exporter": "python",
   "pygments_lexer": "ipython3",
   "version": "3.12.4"
  }
 },
 "nbformat": 4,
 "nbformat_minor": 5
}
